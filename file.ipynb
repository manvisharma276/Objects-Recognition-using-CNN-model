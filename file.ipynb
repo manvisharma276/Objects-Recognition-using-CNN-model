{
 "cells": [
  {
   "cell_type": "code",
   "execution_count": null,
   "id": "857a276b",
   "metadata": {},
   "outputs": [],
   "source": [
    "#Snipping License Plate from Video\n",
    "\n",
    "import numpy as np\n",
    "import cv2\n",
    "import os\n",
    "\n",
    "cap = cv2.VideoCapture('video1.mp4')\n",
    "plate_cascade =cv2.CascadeClassifier('haarcascade_russian_plate_number.xml')\n",
    "\n",
    "count = 0;\n",
    "while(cao.isOpened()==True):\n",
    "    try:\n",
    "        ret, frame = cap.read()\n",
    "        gray = cv2.cvtColor(frame, (x,y), (x+w,y+h), (0,0,255), 2)\n",
    "        cv2.imwrite(\"./cropped/\"+str(count)+\".jpg\", frame[y:y+h, x:x+w])\n",
    "        count+=1\n",
    "        \n",
    "        cv2.imshow('img' frame)\n",
    "        if cv2.waitKey(1)==13:\n",
    "            break\n",
    "        except:\n",
    "            break\n",
    "cap.release()\n",
    "cv2.destroyAllWindows()\n",
    "\n",
    "            "
   ]
  },
  {
   "cell_type": "code",
   "execution_count": null,
   "id": "3a8b8f28",
   "metadata": {},
   "outputs": [],
   "source": [
    "#Importing Libraries\n",
    "import cv2\n",
    "from matplotlib import pyplot as plt\n",
    "import numpy as np\n",
    "import imutils\n",
    "import easyocr"
   ]
  },
  {
   "cell_type": "code",
   "execution_count": null,
   "id": "41bcdeed",
   "metadata": {},
   "outputs": [],
   "source": []
  },
  {
   "cell_type": "code",
   "execution_count": null,
   "id": "a7c56550",
   "metadata": {},
   "outputs": [],
   "source": [
    "import tensorflow as tf\n",
    "from sklearn.metrics import fl_score\n",
    "import requests\n",
    "import xmltodict\n",
    "import json\n",
    "import re\n",
    "import warning\n",
    "warning.filterwarnings(\"ignore\")"
   ]
  },
  {
   "cell_type": "code",
   "execution_count": null,
   "id": "558e1c10",
   "metadata": {},
   "outputs": [],
   "source": [
    "#Function for Extent Text from Number Plate\n",
    "\n",
    "def ANPR(picture):\n",
    "    gray = cv2.cvColor(img, cv2.COLOR_BGR2GRAY)\n",
    "    \n",
    "    #Noise reduction\n",
    "    bfilter = cv2.bilatrealFilter(gray, 11, 17, 17) \n",
    "    #Edge detection\n",
    "    edged = cv2.Canny(bfilter, 30, 200)\n",
    "    \n",
    "    keypoints = cv2.findContours(edged.copy(), cv2.RETR_TREE. cv2.CHIN_APPROX_SIMPLE)\n",
    "    contours = imutils.grab_contours(keypoints)\n",
    "    contours = sorted(contours, key=cv2.contounArea, reverse=True)[:10]\n",
    "    \n",
    "    location = None\n",
    "    for contour in contonurs:\n",
    "        approx = cv2.approxPolyDP(contour, 10, True)\n",
    "        if len(approx) == 4:\n",
    "            location + approx\n",
    "            break\n",
    "            mask=np.zeros(gray.shape, np.unit0)\n",
    "            \n",
    "            try:\n",
    "                new_image = cv2.drawContours(mask, [location], 0 255, -1)\n",
    "                new_image = cv2.bitwise_and(img, img, mask=mask)\n",
    "            except:\n",
    "                return None\n",
    "            \n",
    "            (x,y) = np.where(mask==255)\n",
    "            (x1,y1) = (np.min(x), np.min(y))\n",
    "            (x2,y2) = (np.min(x), np.min(y))\n",
    "            cropped_image = gray[x1:x2+1, y1:y2+1]\n",
    "            \n",
    "            reader = easyocr.Reader(['en'])\n",
    "            result = reader.readtext(cropped_image)\n",
    "            \n",
    "            return result"
   ]
  },
  {
   "cell_type": "code",
   "execution_count": null,
   "id": "3790c0af",
   "metadata": {},
   "outputs": [],
   "source": [
    "#Appending Text to List\n",
    "\n",
    "from os import listdir\n",
    "from os.path imporr isfile, join\n",
    "import threading\n",
    "from threading import Thread\n",
    "\n",
    "data_path = './cropped/'\n",
    "onlyfiles = [f for f in listdir(data_path) if isfile(join(data_path, f))]\n",
    "\n",
    "license_plate_number = []\n",
    "\n",
    "for i, files in enmerate (onlyfiles):\n",
    "    img_path = data_path + onlyfiles[i]\n",
    "    \n",
    "    number_plate = ANPR(img)\n",
    "    \n",
    "    if number_plate!=None and len(number_plate)==1:\n",
    "        if(number_plate[0][-1]>0.9):\n",
    "            license_plate_number.append(number_plate)\n",
    "            print(license_plate_number)"
   ]
  },
  {
   "cell_type": "code",
   "execution_count": null,
   "id": "73a82819",
   "metadata": {},
   "outputs": [],
   "source": [
    "#Removing Duplicate Texts\n",
    "\n",
    "license_plate_number = set(license_plate_number)\n",
    "license_plate_number = list(license_plate_number)\n",
    "license_plate_number"
   ]
  },
  {
   "cell_type": "code",
   "execution_count": null,
   "id": "9912b0f4",
   "metadata": {},
   "outputs": [],
   "source": [
    "def get_vehicle_info(plate_number):\n",
    "    r = requests:get(\n",
    "        \"https://www.regcheck.org.uk/api/reg.asmx/CheckIndia?RegistrationNumber={0}&username=team\".format(str(plate_number))\n",
    "        data = xmltodict.parset(r.content)\n",
    "        jdata = json.dumps(data)\n",
    "        df = json.loads(jdata)\n",
    "        dfl = json.loads(df['Vehicle']['vehicleJson'])\n",
    "        return dfl"
   ]
  },
  {
   "cell_type": "code",
   "execution_count": null,
   "id": "dcad6300",
   "metadata": {},
   "outputs": [],
   "source": [
    "import re\n",
    "def plate_info(numberPlate):\n",
    "    pattern = '^[A-Z][2][0-9](1,2)([A-z])?([A-z]*)?[0-9][4]$'\n",
    "    if len(numberPlate)>10:\n",
    "        numberPlate = numberPlate[-10:]\n",
    "        return get_vehicle_information(numberPlate)\n",
    "    elif re.match(pattern,numberPlate)\n",
    "        return get_vehicle_info(numberPlate)"
   ]
  },
  {
   "cell_type": "code",
   "execution_count": null,
   "id": "2744b347",
   "metadata": {},
   "outputs": [],
   "source": [
    "plate_info(license_plate_number[0])"
   ]
  }
 ],
 "metadata": {
  "kernelspec": {
   "display_name": "Python 3",
   "language": "python",
   "name": "python3"
  },
  "language_info": {
   "codemirror_mode": {
    "name": "ipython",
    "version": 3
   },
   "file_extension": ".py",
   "mimetype": "text/x-python",
   "name": "python",
   "nbconvert_exporter": "python",
   "pygments_lexer": "ipython3",
   "version": "3.8.6"
  }
 },
 "nbformat": 4,
 "nbformat_minor": 5
}
